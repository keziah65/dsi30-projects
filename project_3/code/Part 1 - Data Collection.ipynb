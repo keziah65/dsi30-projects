{
 "cells": [
  {
   "cell_type": "markdown",
   "id": "84300b7d",
   "metadata": {},
   "source": [
    "### Background"
   ]
  },
  {
   "cell_type": "markdown",
   "id": "839d9b6b",
   "metadata": {},
   "source": [
    "Netflix is one of the world's most popular streaming service. In 2022, Netflix lost over 1.2 million customers.\n",
    "\n",
    "Based on the [source](https://www.makeuseof.com/why-netflix-is-losing-subscribers/), here are the following reasons why Neflix is losing subscribers:\n",
    "- 1. Netflix Pulled Its Service From Russia\n",
    "- 2. Netflix Hiked Up Prices \n",
    "- 3. Netflix Account Sharing Slows Down Growth\n",
    "- 4. Netflix Keeps Losing Content From Media Companies\n",
    "- 5. Quality of Content\n",
    "- 6. There Are Too Many Streaming Services\n",
    "\n",
    "This project would like to dive deeper into studying and comparing Netflix with one of its biggest competitor, Disney Plus."
   ]
  },
  {
   "cell_type": "markdown",
   "id": "31180b7d",
   "metadata": {},
   "source": [
    "### Outside Research"
   ]
  },
  {
   "cell_type": "markdown",
   "id": "45a3d556",
   "metadata": {},
   "source": [
    "**Reference :** [Disney Plus vs. Netflix: How Do They Compare?](https://www.cnet.com/tech/services-and-software/disney-plus-vs-netflix-how-to-choose-between-both-streaming-services/#:~:text=Disney%20Plus%20and%20Netflix%20differ,streams%20and%20has%20Netflix%20beat)\n",
    "\n",
    "Obi-Wan Kenobi and Stranger Things 4 are hot tickets on their platforms, but here's how Disney Plus and Netflix stack up.\n",
    "\n",
    "**Netflix**<br>\n",
    "Back in 2007, Netflix is credited with starting the streaming wars. Since then, the industry leader in streaming has raised the price of its subscriptions, but Netflix has remained committed to original content while also offering a wide selection of authorized TV episodes and films. Its user interface makes it simple to browse content by age, popularity, or category. \n",
    "\n",
    "**Disney Plus** <br>\n",
    "A playground for children, Star Wars fans, Marvel lovers and throwbacks<br>\n",
    "With its selection of family-friendly films and television programs, Disney Plus takes the top spot. As of May, the site had more than 137 million subscribers, and it is still expanding. For anyone who like all things Disney, Marvel, Pixar, and National Geographic, it's a great deal at $8 per month. Nearly ten decades' worth of amusing and enlightening material is available to viewers.\n",
    "\n",
    "**How do these services compare in pricing?** <br>\n",
    "Disney Plus and Netflix differ greatly in costs <br>\n",
    "DisneyPlus costs \\\\$8 per month while Netflix's cost ranges from \\\\$10-20 per month depending on the subscription plan.\n",
    "\n",
    "**Originals** <br>\n",
    "Without truly setting a match on anything completely new, Disney Plus draws on established franchises and legacy products. When viewers must wait for the streamer to release new content, this strategy hurts Disney. Even if successful series like Loki and The Mandalorian have great production values, they are part of broader cinematic universes. Additionally, the site doesn't release many original films, unlike Netflix. \n",
    "\n",
    "However, that doesn't imply that you can't find anything good to stream from Marvel, NatGeo or any other brand in the Disney family. It's the only place you can view Obi-Wan Kenobi, Encanto, Turning Red and Moon Knight.\n",
    "\n",
    "Netflix's original content, on the other hand, is nothing to laugh at. In addition to the now-famous Stranger Things, the platform has successfully incorporated a number of unique TV shows and movies into popular culture, including Squid Game, Money Heist, and Tiger King. This does not imply that Netflix avoids adaptations, remakes, or reboots. Whether it's an original television show based on an existing property like Fuller House or Lucifer, or a novel adaption like Bridgerton.\n",
    "\n",
    "However, the content is always changing. A list of Netflix's newest original releases for each month and year is simple to locate. Netflix provides a consistent flow of original content that customers can depend on every week, whether it's a movie, reality program, or highly anticipated new season of a popular series. \n",
    "\n",
    "**How do they compare in overall variety?** <br>\n",
    "Disney Plus has some gaps for adults, while Netflix has a balance<br>\n",
    "\n",
    "Disney's selection of children's films and television shows cannot be contested. Its inventory, which spans almost 100 years of goods, was created with children's imaginations in mind. Having saying that, every show and movie on Disney Plus upholds the tradition of creating family-friendly material. It's a haven for youngsters and a nostalgia home run for grownups.\n",
    "\n",
    "There are roughly a little over 1,000 total pieces of content on Disney Plus, including a sizable collection of documentaries, TV episodes, animated stories, and blockbuster movies. The majority of it originates from a Disney-owned studio or network, such as ABC, Pixar, or Marvel.\n",
    "\n",
    "According to reports, Netflix's site currently offers over 3,000 films and 1,000 TV shows. It provides a wide selection of both original and licensed content for children of all ages, as well as selections for every genre. You may view video from a variety of sources in addition to its own original productions, including the CW, Fox, Universal Pictures, Showtime, USA, and more.\n",
    "\n",
    "Visit Netflix to watch anime, kid-friendly movies, rom-coms, horror movies, and just about anything else. Because there are material types suitable for all ages, from G to NC-17, adults can enjoy all the bloodshed, dark humor, and romance they desire."
   ]
  },
  {
   "cell_type": "markdown",
   "id": "fa87b085",
   "metadata": {},
   "source": [
    "### Problem Statement"
   ]
  },
  {
   "cell_type": "markdown",
   "id": "2e320796",
   "metadata": {},
   "source": [
    "As the member of the Netflix data scientist team, I am assigned to research the general customer opinions toward Netflix and one of its competitors, Disney+, on Reddit. \n",
    "\n",
    "The goals of this project are: \n",
    "- to categorize postings on the r/netflix and r/DisneyPlus subreddits\n",
    "- to investigate the reasons behind Netflix's declining subscriber count \n",
    "- to suggest potential solutions to increase Netflix's subscriptions"
   ]
  },
  {
   "cell_type": "markdown",
   "id": "6c77c51b",
   "metadata": {},
   "source": [
    "### Import Libraries"
   ]
  },
  {
   "cell_type": "code",
   "execution_count": 28,
   "id": "9a223657",
   "metadata": {},
   "outputs": [],
   "source": [
    "import pandas as pd\n",
    "import numpy as np\n",
    "import requests\n",
    "import time\n",
    "import datetime as dt\n",
    "import json"
   ]
  },
  {
   "cell_type": "markdown",
   "id": "762bdb08",
   "metadata": {},
   "source": [
    "### Creating a function to collect data using Pushshift's API"
   ]
  },
  {
   "cell_type": "code",
   "execution_count": null,
   "id": "0356ad39",
   "metadata": {},
   "outputs": [],
   "source": [
    "# subreddit: r/talesfromtechsupport and r/TalesFromRetail\n",
    "# post_type: type of post to search for: submission\n",
    "# loops: number of times to request posts\n",
    "# size: number of posts per request (max 100 per pushshift api)\n",
    "# skip: skip posts"
   ]
  },
  {
   "cell_type": "code",
   "execution_count": 33,
   "id": "8c9d0f0b",
   "metadata": {},
   "outputs": [],
   "source": [
    "#Ref: https://github.com/pushshift/api\n",
    "\n",
    "def pushshift(subreddit, post_type, loops=1, size=100, skip=1):\n",
    "\n",
    "    # data fields to return for submissions\n",
    "    subfields = ['subreddit', 'title', 'selftext']    \n",
    "    \n",
    "    # instantiate list for posts data\n",
    "    list_posts = [] \n",
    "    url_stem = \"https://api.pushshift.io/reddit/search/{}/?subreddit={}&size={}\".format(post_type, subreddit, size)  \n",
    "\n",
    "    for i in range(loops):\n",
    "        # add parameters to url to skip posts \n",
    "        url = '{}&after={}d'.format(url_stem, skip * i) \n",
    "        \n",
    "        # monitor status as loops run\n",
    "        print(i, url)\n",
    "        \n",
    "        # get data from url\n",
    "        res = requests.get(url)\n",
    "        # add dictionaries for posts to list_posts\n",
    "        list_posts.extend(res.json()['data']) \n",
    "        \n",
    "        # allow for break in between requests\n",
    "        time.sleep(1) \n",
    "\n",
    "    # turn list_posts (a list of dictionaries where each dictionary contains data on one post) into a dataframe\n",
    "    df_posts = pd.DataFrame.from_dict(list_posts) \n",
    "\n",
    "    # drop any duplicates\n",
    "    df_posts.drop_duplicates(inplace=True)\n",
    "    \n",
    "    return df_posts"
   ]
  },
  {
   "cell_type": "code",
   "execution_count": 80,
   "id": "fe7eff4c",
   "metadata": {},
   "outputs": [
    {
     "name": "stdout",
     "output_type": "stream",
     "text": [
      "0 https://api.pushshift.io/reddit/search/submission/?subreddit=netflix&size=100&after=1d\n",
      "1 https://api.pushshift.io/reddit/search/submission/?subreddit=netflix&size=100&after=2d\n",
      "2 https://api.pushshift.io/reddit/search/submission/?subreddit=netflix&size=100&after=3d\n",
      "3 https://api.pushshift.io/reddit/search/submission/?subreddit=netflix&size=100&after=4d\n",
      "4 https://api.pushshift.io/reddit/search/submission/?subreddit=netflix&size=100&after=5d\n",
      "5 https://api.pushshift.io/reddit/search/submission/?subreddit=netflix&size=100&after=6d\n",
      "6 https://api.pushshift.io/reddit/search/submission/?subreddit=netflix&size=100&after=7d\n",
      "7 https://api.pushshift.io/reddit/search/submission/?subreddit=netflix&size=100&after=8d\n",
      "8 https://api.pushshift.io/reddit/search/submission/?subreddit=netflix&size=100&after=9d\n",
      "9 https://api.pushshift.io/reddit/search/submission/?subreddit=netflix&size=100&after=10d\n",
      "10 https://api.pushshift.io/reddit/search/submission/?subreddit=netflix&size=100&after=11d\n",
      "11 https://api.pushshift.io/reddit/search/submission/?subreddit=netflix&size=100&after=12d\n",
      "12 https://api.pushshift.io/reddit/search/submission/?subreddit=netflix&size=100&after=13d\n",
      "13 https://api.pushshift.io/reddit/search/submission/?subreddit=netflix&size=100&after=14d\n",
      "14 https://api.pushshift.io/reddit/search/submission/?subreddit=netflix&size=100&after=15d\n",
      "15 https://api.pushshift.io/reddit/search/submission/?subreddit=netflix&size=100&after=16d\n",
      "16 https://api.pushshift.io/reddit/search/submission/?subreddit=netflix&size=100&after=17d\n",
      "17 https://api.pushshift.io/reddit/search/submission/?subreddit=netflix&size=100&after=18d\n",
      "18 https://api.pushshift.io/reddit/search/submission/?subreddit=netflix&size=100&after=19d\n",
      "19 https://api.pushshift.io/reddit/search/submission/?subreddit=netflix&size=100&after=20d\n",
      "20 https://api.pushshift.io/reddit/search/submission/?subreddit=netflix&size=100&after=21d\n",
      "21 https://api.pushshift.io/reddit/search/submission/?subreddit=netflix&size=100&after=22d\n",
      "22 https://api.pushshift.io/reddit/search/submission/?subreddit=netflix&size=100&after=23d\n",
      "23 https://api.pushshift.io/reddit/search/submission/?subreddit=netflix&size=100&after=24d\n",
      "24 https://api.pushshift.io/reddit/search/submission/?subreddit=netflix&size=100&after=25d\n",
      "shape (1337, 4)\n"
     ]
    }
   ],
   "source": [
    "# i_sub = pushshift('netflix', post_type='submission', loops=25, size=100, skip=1)\n",
    "# print('shape', i_sub.shape)"
   ]
  },
  {
   "cell_type": "code",
   "execution_count": 101,
   "id": "dd176340",
   "metadata": {
    "scrolled": true
   },
   "outputs": [
    {
     "name": "stdout",
     "output_type": "stream",
     "text": [
      "0 https://api.pushshift.io/reddit/search/submission/?subreddit=DisneyPlus&size=100&after=1d\n",
      "1 https://api.pushshift.io/reddit/search/submission/?subreddit=DisneyPlus&size=100&after=2d\n",
      "2 https://api.pushshift.io/reddit/search/submission/?subreddit=DisneyPlus&size=100&after=3d\n",
      "3 https://api.pushshift.io/reddit/search/submission/?subreddit=DisneyPlus&size=100&after=4d\n",
      "4 https://api.pushshift.io/reddit/search/submission/?subreddit=DisneyPlus&size=100&after=5d\n",
      "5 https://api.pushshift.io/reddit/search/submission/?subreddit=DisneyPlus&size=100&after=6d\n",
      "6 https://api.pushshift.io/reddit/search/submission/?subreddit=DisneyPlus&size=100&after=7d\n",
      "7 https://api.pushshift.io/reddit/search/submission/?subreddit=DisneyPlus&size=100&after=8d\n",
      "8 https://api.pushshift.io/reddit/search/submission/?subreddit=DisneyPlus&size=100&after=9d\n",
      "9 https://api.pushshift.io/reddit/search/submission/?subreddit=DisneyPlus&size=100&after=10d\n",
      "10 https://api.pushshift.io/reddit/search/submission/?subreddit=DisneyPlus&size=100&after=11d\n",
      "11 https://api.pushshift.io/reddit/search/submission/?subreddit=DisneyPlus&size=100&after=12d\n",
      "12 https://api.pushshift.io/reddit/search/submission/?subreddit=DisneyPlus&size=100&after=13d\n",
      "13 https://api.pushshift.io/reddit/search/submission/?subreddit=DisneyPlus&size=100&after=14d\n",
      "14 https://api.pushshift.io/reddit/search/submission/?subreddit=DisneyPlus&size=100&after=15d\n",
      "15 https://api.pushshift.io/reddit/search/submission/?subreddit=DisneyPlus&size=100&after=16d\n",
      "16 https://api.pushshift.io/reddit/search/submission/?subreddit=DisneyPlus&size=100&after=17d\n",
      "17 https://api.pushshift.io/reddit/search/submission/?subreddit=DisneyPlus&size=100&after=18d\n",
      "18 https://api.pushshift.io/reddit/search/submission/?subreddit=DisneyPlus&size=100&after=19d\n",
      "19 https://api.pushshift.io/reddit/search/submission/?subreddit=DisneyPlus&size=100&after=20d\n",
      "20 https://api.pushshift.io/reddit/search/submission/?subreddit=DisneyPlus&size=100&after=21d\n",
      "21 https://api.pushshift.io/reddit/search/submission/?subreddit=DisneyPlus&size=100&after=22d\n",
      "22 https://api.pushshift.io/reddit/search/submission/?subreddit=DisneyPlus&size=100&after=23d\n",
      "23 https://api.pushshift.io/reddit/search/submission/?subreddit=DisneyPlus&size=100&after=24d\n",
      "24 https://api.pushshift.io/reddit/search/submission/?subreddit=DisneyPlus&size=100&after=25d\n",
      "25 https://api.pushshift.io/reddit/search/submission/?subreddit=DisneyPlus&size=100&after=26d\n",
      "26 https://api.pushshift.io/reddit/search/submission/?subreddit=DisneyPlus&size=100&after=27d\n",
      "27 https://api.pushshift.io/reddit/search/submission/?subreddit=DisneyPlus&size=100&after=28d\n",
      "28 https://api.pushshift.io/reddit/search/submission/?subreddit=DisneyPlus&size=100&after=29d\n",
      "29 https://api.pushshift.io/reddit/search/submission/?subreddit=DisneyPlus&size=100&after=30d\n",
      "30 https://api.pushshift.io/reddit/search/submission/?subreddit=DisneyPlus&size=100&after=31d\n",
      "31 https://api.pushshift.io/reddit/search/submission/?subreddit=DisneyPlus&size=100&after=32d\n",
      "32 https://api.pushshift.io/reddit/search/submission/?subreddit=DisneyPlus&size=100&after=33d\n",
      "33 https://api.pushshift.io/reddit/search/submission/?subreddit=DisneyPlus&size=100&after=34d\n",
      "34 https://api.pushshift.io/reddit/search/submission/?subreddit=DisneyPlus&size=100&after=35d\n",
      "35 https://api.pushshift.io/reddit/search/submission/?subreddit=DisneyPlus&size=100&after=36d\n",
      "36 https://api.pushshift.io/reddit/search/submission/?subreddit=DisneyPlus&size=100&after=37d\n",
      "37 https://api.pushshift.io/reddit/search/submission/?subreddit=DisneyPlus&size=100&after=38d\n",
      "38 https://api.pushshift.io/reddit/search/submission/?subreddit=DisneyPlus&size=100&after=39d\n",
      "39 https://api.pushshift.io/reddit/search/submission/?subreddit=DisneyPlus&size=100&after=40d\n",
      "40 https://api.pushshift.io/reddit/search/submission/?subreddit=DisneyPlus&size=100&after=41d\n",
      "41 https://api.pushshift.io/reddit/search/submission/?subreddit=DisneyPlus&size=100&after=42d\n",
      "42 https://api.pushshift.io/reddit/search/submission/?subreddit=DisneyPlus&size=100&after=43d\n",
      "43 https://api.pushshift.io/reddit/search/submission/?subreddit=DisneyPlus&size=100&after=44d\n",
      "44 https://api.pushshift.io/reddit/search/submission/?subreddit=DisneyPlus&size=100&after=45d\n",
      "45 https://api.pushshift.io/reddit/search/submission/?subreddit=DisneyPlus&size=100&after=46d\n",
      "46 https://api.pushshift.io/reddit/search/submission/?subreddit=DisneyPlus&size=100&after=47d\n",
      "47 https://api.pushshift.io/reddit/search/submission/?subreddit=DisneyPlus&size=100&after=48d\n",
      "48 https://api.pushshift.io/reddit/search/submission/?subreddit=DisneyPlus&size=100&after=49d\n",
      "49 https://api.pushshift.io/reddit/search/submission/?subreddit=DisneyPlus&size=100&after=50d\n",
      "shape (1329, 4)\n"
     ]
    }
   ],
   "source": [
    "# a_sub = pushshift('DisneyPlus', post_type='submission', loops=50, size=100, skip=1)\n",
    "# print('shape', a_sub.shape)"
   ]
  },
  {
   "cell_type": "code",
   "execution_count": 102,
   "id": "d0705c96",
   "metadata": {},
   "outputs": [],
   "source": [
    "# i_sub.to_csv('i_sub.csv')\n",
    "# a_sub.to_csv('a_sub.csv')"
   ]
  },
  {
   "cell_type": "code",
   "execution_count": 103,
   "id": "da19283b",
   "metadata": {},
   "outputs": [],
   "source": [
    "i_df = pd.read_csv('./i_sub.csv')\n",
    "a_df = pd.read_csv('./a_sub.csv')"
   ]
  },
  {
   "cell_type": "code",
   "execution_count": 104,
   "id": "f36fba1f",
   "metadata": {},
   "outputs": [
    {
     "data": {
      "text/plain": [
       "((1337, 5), (1329, 5))"
      ]
     },
     "execution_count": 104,
     "metadata": {},
     "output_type": "execute_result"
    }
   ],
   "source": [
    "i_df.shape, a_df.shape"
   ]
  },
  {
   "cell_type": "code",
   "execution_count": 105,
   "id": "8a13a0f8",
   "metadata": {},
   "outputs": [],
   "source": [
    "i_df.drop(i_df[i_df['selftext']=='[removed]'].index, axis=0, inplace=True)\n",
    "a_df.drop(a_df[a_df['selftext']=='[removed]'].index, axis=0, inplace=True)"
   ]
  },
  {
   "cell_type": "code",
   "execution_count": 106,
   "id": "591ad207",
   "metadata": {},
   "outputs": [
    {
     "data": {
      "text/plain": [
       "((934, 5), (974, 5))"
      ]
     },
     "execution_count": 106,
     "metadata": {},
     "output_type": "execute_result"
    }
   ],
   "source": [
    "i_df.shape, a_df.shape"
   ]
  },
  {
   "cell_type": "code",
   "execution_count": 107,
   "id": "f94c5ce3",
   "metadata": {},
   "outputs": [
    {
     "data": {
      "text/plain": [
       "Unnamed: 0      0\n",
       "selftext      513\n",
       "subreddit       0\n",
       "title           0\n",
       "post_type       0\n",
       "dtype: int64"
      ]
     },
     "execution_count": 107,
     "metadata": {},
     "output_type": "execute_result"
    }
   ],
   "source": [
    "i_df.isnull().sum()"
   ]
  },
  {
   "cell_type": "code",
   "execution_count": 108,
   "id": "e382b490",
   "metadata": {},
   "outputs": [
    {
     "data": {
      "text/plain": [
       "Unnamed: 0      0\n",
       "selftext      458\n",
       "subreddit       0\n",
       "title           0\n",
       "post_type       0\n",
       "dtype: int64"
      ]
     },
     "execution_count": 108,
     "metadata": {},
     "output_type": "execute_result"
    }
   ],
   "source": [
    "a_df.isnull().sum()"
   ]
  },
  {
   "cell_type": "code",
   "execution_count": 109,
   "id": "c8487bee",
   "metadata": {},
   "outputs": [],
   "source": [
    "i_df.dropna(axis=0, inplace=True)\n",
    "a_df.dropna(axis=0, inplace=True)"
   ]
  },
  {
   "cell_type": "code",
   "execution_count": 110,
   "id": "4f7f4b9c",
   "metadata": {},
   "outputs": [
    {
     "data": {
      "text/plain": [
       "((421, 5), (516, 5))"
      ]
     },
     "execution_count": 110,
     "metadata": {},
     "output_type": "execute_result"
    }
   ],
   "source": [
    "i_df.shape, a_df.shape"
   ]
  }
 ],
 "metadata": {
  "kernelspec": {
   "display_name": "Python 3 (ipykernel)",
   "language": "python",
   "name": "python3"
  },
  "language_info": {
   "codemirror_mode": {
    "name": "ipython",
    "version": 3
   },
   "file_extension": ".py",
   "mimetype": "text/x-python",
   "name": "python",
   "nbconvert_exporter": "python",
   "pygments_lexer": "ipython3",
   "version": "3.8.13"
  }
 },
 "nbformat": 4,
 "nbformat_minor": 5
}
