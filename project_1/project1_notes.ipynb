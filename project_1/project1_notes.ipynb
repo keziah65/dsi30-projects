{
 "cells": [
  {
   "cell_type": "markdown",
   "id": "013897ec",
   "metadata": {},
   "source": [
    "Source: https://blog.collegevine.com/here-are-the-average-sat-scores-by-state/"
   ]
  },
  {
   "cell_type": "markdown",
   "id": "fbc750e5",
   "metadata": {},
   "source": [
    "## SAT_2017\n",
    "\n",
    "### Why do average SAT Scores By State Matter?\n",
    "- Colleges want to admit students from diverse class so they consider this diversity by geographical region.\n",
    "- Students will be competing with students from the same state for a seat at selective colleges."
   ]
  },
  {
   "cell_type": "markdown",
   "id": "ddb8489d",
   "metadata": {},
   "source": [
    "### Which states have the highest SAT Scores?\n",
    "\n",
    "### Which states have the lowest SAT Scores?\n",
    "\n",
    "### How do average SAT scores compare to average ACT scores?\n",
    "- The preference for one standardized test over another tends to be largely geographical in nature.\n",
    "- In states with high SAT participation, ACT participation tends to be much lower, vice versa\n"
   ]
  },
  {
   "cell_type": "markdown",
   "id": "5b77ad21",
   "metadata": {},
   "source": [
    "Source: https://www.collegeraptor.com/getting-in/articles/act-sat/act-vs-sat-which-college-entrance-exam-is-more-popular/ \n",
    "\n",
    "Additional Source : https://www.washingtonpost.com/blogs/answer-sheet/post/how-act-overtook-sat-as-the-top-college-entrance-exam/2012/09/24/d56df11c-0674-11e2-afff-d6c7f20a83bf_blog.html\n",
    "## Do Colleges Prefer ACT or SAT? Which is More Popular?\n"
   ]
  },
  {
   "cell_type": "markdown",
   "id": "f01bf516",
   "metadata": {},
   "source": [
    "### Problem Statement\n",
    "\n",
    "Generally speaking, you will be asked to come up with a data science problem. This problem is ultimately up to you, but below are some guidelines/things to consider when crafting a problem statement:\n",
    "> 1. Consider your audience. Who is your project going to help? Who will your presentation be geared towards? Establishing your audience first can help you narrow down your scope.\n",
    "Ans: \n",
    "\n",
    "> 2. Consider the data you will use. Based on the contents of this data, think about some questions you could reasonably answer. These questions should aim to solve some kind of problem.\n",
    "> 3. Based on these questions, what would bring some kind value to your audience? This can be business insights, increase sales, make decisions, etc.\n",
    "> 4. Put everything from the above steps together into a few sentences that describe the specific problem you are trying to solve and who it will benefit.\n",
    "> [Here is a blog post](https://towardsdatascience.com/defining-a-data-science-problem-4cbf15a2a461) about crafting a data science problem statement.\n",
    "\n",
    "Here are some example prompts if you need inspiration:\n",
    "> * The new format for the SAT was released in March 2016. As an employee of the College Board - the organization that administers the SAT - you are a part of a team that tracks statewide participation and recommends where money is best spent to improve SAT participation rates. Your presentation and report should be geared toward non-technical executives with the College Board and you will use the provided data and outside research to make recommendations about how the College Board might work to increase the participation rate in a *state of your choice*.\n",
    "> * You work for a school district that has asked you to advise their high school students on what SAT or ACT score they should be aiming for based on their intended area of study or school preferences.\n",
    "> * You are hired by the state of California to analyze standardized test performance for various districts in the state and identify trends so they can allocate resources appropriately.\n",
    "> * Lately, more and more schools are opting to drop the SAT/ACT requirement for their Fall 2021 applications ([*read more about this here*](https://www.cnn.com/2020/04/14/us/coronavirus-colleges-sat-act-test-trnd/index.html)). You are hired by a college to advise their admissions team on why this should or should not continue beyond the Fall 2021 applications. (Note: problem statements related to this prompt may not be reasonable to answer just using the data provided. If you want to tackle this one, you may need to find additional data online.)\n",
    "> * *Feel free to be creative with your own prompt!*\n",
    "\n",
    "And here are some example problem statements related to the above prompts. Come up with your own or modify these for your needs, do not just copy the ones given here:\n",
    "> * The new format for the SAT was released in March 2016. Since then, levels of participation in multiple states have changed with varying legislative decisions. This project aims to explore trends in SAT and ACT participation for the years 2017-2019 and seeks to identify states that have decreasing SAT participation rates.\n",
    "> * High school students often know which colleges they would like to consider, but rarely know what SAT or ACT score they should aim for when applying to these colleges. We wish to explore the schools that have the highest and lowest SAT and ACT score requirements and see if there is a relationship between college prestige and test scores.\n",
    "> * The state of California has many school districts. This project aims to identify the districts that have the worst overall student performance on the SAT and ACT tests so the state can recommend programs and allocate resources to these districts in need. \n",
    "> * We hypothesize that student performance on these tests is not an indicator of overall academic performance. This project seeks to see if a relationship exists between student GPA and SAT/ACT scores to support or oppose the continuation of these tests as a requirement for college applications.\n",
    "> * *Feel free to be creative with your own problem statement!*\n",
    "\n",
    "---"
   ]
  }
 ],
 "metadata": {
  "kernelspec": {
   "display_name": "Python 3 (ipykernel)",
   "language": "python",
   "name": "python3"
  },
  "language_info": {
   "codemirror_mode": {
    "name": "ipython",
    "version": 3
   },
   "file_extension": ".py",
   "mimetype": "text/x-python",
   "name": "python",
   "nbconvert_exporter": "python",
   "pygments_lexer": "ipython3",
   "version": "3.8.13"
  }
 },
 "nbformat": 4,
 "nbformat_minor": 5
}
