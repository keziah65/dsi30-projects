{
 "cells": [
  {
   "cell_type": "markdown",
   "id": "013897ec",
   "metadata": {},
   "source": [
    "Source: https://blog.collegevine.com/here-are-the-average-sat-scores-by-state/"
   ]
  },
  {
   "cell_type": "markdown",
   "id": "fbc750e5",
   "metadata": {},
   "source": [
    "## SAT_2017\n",
    "\n",
    "### Why do average SAT Scores By State Matter?\n",
    "- Colleges want to admit students from diverse class so they consider this diversity by geographical region.\n",
    "- Students will be competing with students from the same state for a seat at selective colleges."
   ]
  },
  {
   "cell_type": "markdown",
   "id": "ddb8489d",
   "metadata": {},
   "source": [
    "### Which states have the highest SAT Scores?\n",
    "\n",
    "### Which states have the lowest SAT Scores?\n",
    "\n",
    "### How do average SAT scores compare to average ACT scores?\n",
    "- The preference for one standardized test over another tends to be largely geographical in nature.\n",
    "- In states with high SAT participation, ACT participation tends to be much lower, vice versa\n"
   ]
  }
 ],
 "metadata": {
  "kernelspec": {
   "display_name": "Python 3 (ipykernel)",
   "language": "python",
   "name": "python3"
  },
  "language_info": {
   "codemirror_mode": {
    "name": "ipython",
    "version": 3
   },
   "file_extension": ".py",
   "mimetype": "text/x-python",
   "name": "python",
   "nbconvert_exporter": "python",
   "pygments_lexer": "ipython3",
   "version": "3.8.13"
  }
 },
 "nbformat": 4,
 "nbformat_minor": 5
}
